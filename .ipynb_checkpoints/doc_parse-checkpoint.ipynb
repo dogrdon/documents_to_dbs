{
 "metadata": {
  "name": "",
  "signature": "sha256:78596ec28cf32ee9399778bcd0e4aa8e7a685849892111631f7e2ee5507d911a"
 },
 "nbformat": 3,
 "nbformat_minor": 0,
 "worksheets": [
  {
   "cells": [
    {
     "cell_type": "code",
     "collapsed": false,
     "input": [
      "import lxml"
     ],
     "language": "python",
     "metadata": {},
     "outputs": [],
     "prompt_number": 1
    },
    {
     "cell_type": "code",
     "collapsed": false,
     "input": [
      "from docx import Document"
     ],
     "language": "python",
     "metadata": {},
     "outputs": [],
     "prompt_number": 1
    },
    {
     "cell_type": "code",
     "collapsed": false,
     "input": [
      "doc = Document(docx='sandbox_docs/swaziland.docx')"
     ],
     "language": "python",
     "metadata": {},
     "outputs": [],
     "prompt_number": 3
    },
    {
     "cell_type": "code",
     "collapsed": false,
     "input": [
      "sect = doc.sections"
     ],
     "language": "python",
     "metadata": {},
     "outputs": [],
     "prompt_number": 9
    },
    {
     "cell_type": "code",
     "collapsed": false,
     "input": [
      "print sect"
     ],
     "language": "python",
     "metadata": {},
     "outputs": [
      {
       "output_type": "stream",
       "stream": "stdout",
       "text": [
        "<docx.parts.document.Sections object at 0x10324e950>\n"
       ]
      }
     ],
     "prompt_number": 10
    },
    {
     "cell_type": "code",
     "collapsed": false,
     "input": [
      "len(sect)"
     ],
     "language": "python",
     "metadata": {},
     "outputs": [
      {
       "metadata": {},
       "output_type": "pyout",
       "prompt_number": 21,
       "text": [
        "790"
       ]
      }
     ],
     "prompt_number": 21
    },
    {
     "cell_type": "code",
     "collapsed": false,
     "input": [
      "'''this is a Section object and this is what you can do'''\n",
      "for e in sect[:1]:\n",
      "    print dir(e)\n",
      "    "
     ],
     "language": "python",
     "metadata": {},
     "outputs": [
      {
       "output_type": "stream",
       "stream": "stdout",
       "text": [
        "['__class__', '__delattr__', '__dict__', '__doc__', '__format__', '__getattribute__', '__hash__', '__init__', '__module__', '__new__', '__reduce__', '__reduce_ex__', '__repr__', '__setattr__', '__sizeof__', '__str__', '__subclasshook__', '__weakref__', '_sectPr', 'bottom_margin', 'footer_distance', 'gutter', 'header_distance', 'left_margin', 'orientation', 'page_height', 'page_width', 'right_margin', 'start_type', 'top_margin']\n"
       ]
      }
     ],
     "prompt_number": 26
    },
    {
     "cell_type": "code",
     "collapsed": false,
     "input": [
      "doc.tables"
     ],
     "language": "python",
     "metadata": {},
     "outputs": [
      {
       "metadata": {},
       "output_type": "pyout",
       "prompt_number": 27,
       "text": [
        "[<docx.table.Table at 0x1085c0c50>,\n",
        " <docx.table.Table at 0x1085c0c90>,\n",
        " <docx.table.Table at 0x1085c0cd0>,\n",
        " <docx.table.Table at 0x1085c0d10>,\n",
        " <docx.table.Table at 0x1085c0d50>,\n",
        " <docx.table.Table at 0x1085c0d90>]"
       ]
      }
     ],
     "prompt_number": 27
    },
    {
     "cell_type": "code",
     "collapsed": false,
     "input": [
      "for e in doc.tables:\n",
      "    para = e.cell(0,1).paragraphs\n",
      "    \n",
      "    for e in para:\n",
      "        print e.text"
     ],
     "language": "python",
     "metadata": {},
     "outputs": [
      {
       "output_type": "stream",
       "stream": "stdout",
       "text": [
        "Food Sources\n",
        "Combine With\n",
        "Celcius\n",
        "Indian\n",
        "Soaking Time*\n",
        "Cooking Time\n"
       ]
      }
     ],
     "prompt_number": 42
    },
    {
     "cell_type": "code",
     "collapsed": false,
     "input": [],
     "language": "python",
     "metadata": {},
     "outputs": []
    }
   ],
   "metadata": {}
  }
 ]
}