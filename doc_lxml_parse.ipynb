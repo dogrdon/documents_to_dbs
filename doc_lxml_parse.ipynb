{
 "metadata": {
  "name": "",
  "signature": "sha256:04a62633afb774d6af057d0c971ce17c9c3142f913627ed2fb84862f8d0a2790"
 },
 "nbformat": 3,
 "nbformat_minor": 0,
 "worksheets": [
  {
   "cells": [
    {
     "cell_type": "code",
     "collapsed": false,
     "input": [
      "from lxml import etree"
     ],
     "language": "python",
     "metadata": {},
     "outputs": [],
     "prompt_number": 1
    },
    {
     "cell_type": "code",
     "collapsed": false,
     "input": [
      "tree = etree.parse('sandbox_docs/swaziland.docx')"
     ],
     "language": "python",
     "metadata": {},
     "outputs": [
      {
       "ename": "XMLSyntaxError",
       "evalue": "Start tag expected, '<' not found, line 1, column 1",
       "output_type": "pyerr",
       "traceback": [
        "\u001b[0;36m  File \u001b[0;32m\"<string>\"\u001b[0;36m, line \u001b[0;32munknown\u001b[0m\n\u001b[0;31mXMLSyntaxError\u001b[0m\u001b[0;31m:\u001b[0m Start tag expected, '<' not found, line 1, column 1\n"
       ]
      }
     ],
     "prompt_number": 2
    },
    {
     "cell_type": "code",
     "collapsed": false,
     "input": [],
     "language": "python",
     "metadata": {},
     "outputs": []
    }
   ],
   "metadata": {}
  }
 ]
}