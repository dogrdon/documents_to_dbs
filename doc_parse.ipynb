{
 "metadata": {
  "name": "",
  "signature": "sha256:e82f832df87f14d322adc12c4c421b4681965bafc5bfa6cab91b40a71c80ddec"
 },
 "nbformat": 3,
 "nbformat_minor": 0,
 "worksheets": [
  {
   "cells": [
    {
     "cell_type": "code",
     "collapsed": false,
     "input": [
      "import lxml"
     ],
     "language": "python",
     "metadata": {},
     "outputs": [],
     "prompt_number": 39
    },
    {
     "cell_type": "code",
     "collapsed": false,
     "input": [
      "from docx import Document"
     ],
     "language": "python",
     "metadata": {},
     "outputs": [],
     "prompt_number": 40
    },
    {
     "cell_type": "code",
     "collapsed": false,
     "input": [
      "doc = Document(docx='sandbox_docs/madagascar_lite.docx')"
     ],
     "language": "python",
     "metadata": {},
     "outputs": [],
     "prompt_number": 60
    },
    {
     "cell_type": "code",
     "collapsed": false,
     "input": [
      "sect = doc.sections"
     ],
     "language": "python",
     "metadata": {},
     "outputs": [],
     "prompt_number": 61
    },
    {
     "cell_type": "code",
     "collapsed": false,
     "input": [
      "print sect"
     ],
     "language": "python",
     "metadata": {},
     "outputs": [
      {
       "output_type": "stream",
       "stream": "stdout",
       "text": [
        "<docx.parts.document.Sections object at 0x1040cebd0>\n"
       ]
      }
     ],
     "prompt_number": 62
    },
    {
     "cell_type": "code",
     "collapsed": false,
     "input": [
      "len(sect)"
     ],
     "language": "python",
     "metadata": {},
     "outputs": [
      {
       "metadata": {},
       "output_type": "pyout",
       "prompt_number": 63,
       "text": [
        "628"
       ]
      }
     ],
     "prompt_number": 63
    },
    {
     "cell_type": "code",
     "collapsed": false,
     "input": [
      "'''this is a Section object and this is what you can do'''\n",
      "for e in sect[:1]:\n",
      "    print dir(e)\n",
      "    "
     ],
     "language": "python",
     "metadata": {},
     "outputs": [
      {
       "output_type": "stream",
       "stream": "stdout",
       "text": [
        "['__class__', '__delattr__', '__dict__', '__doc__', '__format__', '__getattribute__', '__hash__', '__init__', '__module__', '__new__', '__reduce__', '__reduce_ex__', '__repr__', '__setattr__', '__sizeof__', '__str__', '__subclasshook__', '__weakref__', '_sectPr', 'bottom_margin', 'footer_distance', 'gutter', 'header_distance', 'left_margin', 'orientation', 'page_height', 'page_width', 'right_margin', 'start_type', 'top_margin']\n"
       ]
      }
     ],
     "prompt_number": 64
    },
    {
     "cell_type": "code",
     "collapsed": false,
     "input": [
      "doc.tables"
     ],
     "language": "python",
     "metadata": {},
     "outputs": [
      {
       "metadata": {},
       "output_type": "pyout",
       "prompt_number": 65,
       "text": [
        "[]"
       ]
      }
     ],
     "prompt_number": 65
    },
    {
     "cell_type": "code",
     "collapsed": false,
     "input": [
      "\n",
      "txtstr = ''\n",
      "for e in doc.paragraphs[:300]:\n",
      "    \n",
      "    toadd = ''\n",
      "    if e.text == '':\n",
      "        toadd = '|'\n",
      "        txtstr += toadd\n",
      "        \n",
      "    else:\n",
      "        toadd = e.text\n",
      "        txtstr += toadd\n",
      "\n",
      "txtlst = txtstr.split('||')\n",
      "\n",
      "print txtlst[3]\n"
     ],
     "language": "python",
     "metadata": {},
     "outputs": [
      {
       "output_type": "stream",
       "stream": "stdout",
       "text": [
        "Elizabeth\u2019s Swedish Pancakes (Elizabeth Uebelacker, Bealanana)|2 cups milk (fresh or powdered)2 eggs2 heaping Tbs flour1 pinch salt1 pinch sugar|Beat all ingredients A LOT, until all the little lumps are gone.  The batter should be really thin.  Pour a very small amount of butter or oil on a hot frying pan and pour just enough batter into the pan to cover the bottom of it.  Flip when the edges start to curl up a little and it\u2019s brown on the underside.  The first one of the batch often tears.  You can also make this with socolait diluted with water.  Just add a little more flour and leave out the sugar (they will be sweeter).  Serve with jelly, powdered sugar, fresh fruit, honey, citron, granulated sugar or fruit compote.\n"
       ]
      }
     ],
     "prompt_number": 73
    },
    {
     "cell_type": "code",
     "collapsed": false,
     "input": [],
     "language": "python",
     "metadata": {},
     "outputs": []
    }
   ],
   "metadata": {}
  }
 ]
}