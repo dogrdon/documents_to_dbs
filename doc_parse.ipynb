{
 "metadata": {
  "name": "",
  "signature": "sha256:c006f2cc57df1001146935126fff9f92eab768e4e21356753e39ee5aec5e087e"
 },
 "nbformat": 3,
 "nbformat_minor": 0,
 "worksheets": [
  {
   "cells": [
    {
     "cell_type": "code",
     "collapsed": false,
     "input": [
      "import lxml"
     ],
     "language": "python",
     "metadata": {},
     "outputs": [],
     "prompt_number": 65
    },
    {
     "cell_type": "code",
     "collapsed": false,
     "input": [
      "from docx import Document"
     ],
     "language": "python",
     "metadata": {},
     "outputs": [],
     "prompt_number": 66
    },
    {
     "cell_type": "code",
     "collapsed": false,
     "input": [
      "doc = Document(docx='sandbox_docs/madagascar_lite.docx')"
     ],
     "language": "python",
     "metadata": {},
     "outputs": [],
     "prompt_number": 67
    },
    {
     "cell_type": "code",
     "collapsed": false,
     "input": [
      "sect = doc.sections"
     ],
     "language": "python",
     "metadata": {},
     "outputs": [],
     "prompt_number": 68
    },
    {
     "cell_type": "code",
     "collapsed": false,
     "input": [
      "len(sect)"
     ],
     "language": "python",
     "metadata": {},
     "outputs": [
      {
       "metadata": {},
       "output_type": "pyout",
       "prompt_number": 69,
       "text": [
        "641"
       ]
      }
     ],
     "prompt_number": 69
    },
    {
     "cell_type": "code",
     "collapsed": false,
     "input": [
      "'''this is a Section object and this is what you can do'''\n",
      "for e in sect[:1]:\n",
      "    print dir(e)\n",
      "    "
     ],
     "language": "python",
     "metadata": {},
     "outputs": [
      {
       "output_type": "stream",
       "stream": "stdout",
       "text": [
        "['__class__', '__delattr__', '__dict__', '__doc__', '__format__', '__getattribute__', '__hash__', '__init__', '__module__', '__new__', '__reduce__', '__reduce_ex__', '__repr__', '__setattr__', '__sizeof__', '__str__', '__subclasshook__', '__weakref__', '_sectPr', 'bottom_margin', 'footer_distance', 'gutter', 'header_distance', 'left_margin', 'orientation', 'page_height', 'page_width', 'right_margin', 'start_type', 'top_margin']\n"
       ]
      }
     ],
     "prompt_number": 70
    },
    {
     "cell_type": "code",
     "collapsed": false,
     "input": [
      "\n",
      "txtstr = ''\n",
      "for e in doc.paragraphs[:300]:\n",
      "    \n",
      "    toadd = ''\n",
      "    category = ''\n",
      "    subcategory = ''\n",
      "    \n",
      "    if e.text == '':\n",
      "        toadd = '|'\n",
      "        txtstr += toadd\n",
      "        \n",
      "    elif e.text.lstrip().startswith('$$'):\n",
      "        category = e.text\n",
      "        \n",
      "    elif e.text.lstrip().startswith('$'):\n",
      "        subcategory = e.text\n",
      "        \n",
      "    else:\n",
      "        toadd = category + ' | ' + subcategory + ' | ' + e.text\n",
      "        txtstr += toadd\n",
      "\n",
      "txtlst = txtstr.split('||')\n",
      "\n",
      "print len(txtlst)\n",
      "\n",
      "for e in txtlst:\n",
      "    print e, '\\n\\n\\n'\n"
     ],
     "language": "python",
     "metadata": {},
     "outputs": [
      {
       "output_type": "stream",
       "stream": "stdout",
       "text": [
        "29\n",
        " \n",
        "\n",
        "\n",
        "\n",
        " |  | Better than Montasoa Pancakes (adapted from Fanny Farmer)| |  | \u00bd-3/4 c milk |  | (or 1-2 Tbs. powder milk and \u00bd-3/4 c water) |  | 1 cup flour  |  | (try \u00be c wheat flour and \u00bc c soy flour) |  | 2 tsp baking powder |  | 1 Tbs. sugar |  | \u00bd tsp salt |  | 2 Tbs. oil |  | 1 egg |  | splash of vanilla (optional)| |  | Stir the dry ingredients (including powdered milk) until well blended, then add egg, oil, and water (or milk). Stir briskly. The ideal consistency is similar to condensed milk. Add more milk or water if the batter seems too thick. Put a little butter or oil in the frying pan and heat over the stove. Test the heat of the pan with a couple drops of water. When a drop of water \u201cdances\u201d in the oil you can turn the heat down as low as possible and begin pouring pancake batter. Stir well before pouring each pancake.  Pour small amounts of batter from bowl. When lots of bubbles form and the pancake looks firm around the edges you can flip it. Be patient. If you don\u2019t have a spatula try using two forks. If you don\u2019t have maple syrup, these are good with lemon and powdered sugar or jam. \n",
        "\n",
        "\n",
        "\n",
        " |  | Soy Pancakes| |  | 1 cup soy beans  |  | 1 egg 3 Tbs. corn flour  |  | 2 Tbs. sugar  |  | oil to fry salt to taste| |  | Clean, and then boil soy beans for 30 minutes. Watch that soy beans continue to boil. Wash the beans with clean water. Pound the beans until they are mashed completely. Add egg, sugar and salt. Mix well. Use corn flour when molding into balls. Fry until golden brown. OPTION: Use onions and more salt for another type. \n",
        "\n",
        "\n",
        "\n",
        " |  | Elizabeth\u2019s Swedish Pancakes (Elizabeth Uebelacker, Bealanana)| |  | 2 cups milk (fresh or powdered) |  | 2 eggs |  | 2 heaping Tbs flour |  | 1 pinch salt |  | 1 pinch sugar| |  | Beat all ingredients A LOT, until all the little lumps are gone.  The batter should be really thin.  Pour a very small amount of butter or oil on a hot frying pan and pour just enough batter into the pan to cover the bottom of it.  Flip when the edges start to curl up a little and it\u2019s brown on the underside.  The first one of the batch often tears.  You can also make this with socolait diluted with water.  Just add a little more flour and leave o |  | ut the sugar (they will be sweeter).  Serve with jelly, powdered sugar, fresh fruit, honey, citron, granulated sugar or fruit compote. \n",
        "\n",
        "\n",
        "\n",
        " |  | Fruit Compote for Swedish Pancakes:| |  | Fresh fruit cut into small pieces |  | Sugar |  | Flour, cornstarch, or tapioca (optional) |  | Cinnamon (optional) |  | Citron (optional)| |  | While cooking the pancakes, cook the fruit mixture with a little bit of water until bubbly and the fruit is cooked, stirring often. \n",
        "\n",
        "\n",
        "\n",
        " |  | Oatmeal Griddlecakes (Where there is no Whopper) |  | \u00bd cup flour\t\t\t\t\t1 Tbs oil |  | 1 Tbs baking powder\t\t\t\t1 Tbs sugar |  | \u00bd tsp salt\t\t\t\t\t\u00be cup water |  | 1 \u00bd cups oatmeal\t\t\t\t\t\u00be cup milk |  | 1 egg, beaten |  | Mix flour, baking powder and salt together.  Stir in oatmeal.  Combine egg, oil, sugar, water and milk.  Pour into dry ingredients and beat until smooth.  Ladle batter onto hot oiled griddle (or non-stick frying pan).  Flip once. Raisins and cinnamon make good additions. \n",
        "\n",
        "\n",
        "\n",
        " |  | Peanut Butter Pancakes (Where there is no Whopper) |  | 1 cup flour\t\t\t\t\t\u00bc cup honey |  | \u2153 cup powdered milk\t\t\t\t\u00bd tsp vanilla |  | \u00bd tsp baking powder\t\t\t\t\u00be cup water or milk |  | 2 eggs, beaten\t\t\t\t\t\u00bd cup peanut butter |  | Mix dry ingredients together.  Mix remaining ingredients in a separate bowl.  Combine the two mixture, stirring until smooth.  Fry in hot frying pan. \n",
        "\n",
        "\n",
        "\n",
        " |  | Rice-Cornmeal Griddlecakes (Joy of Cooking)| |  | \u00bd cup flour |  | 1 tsp salt |  | \u00bd tsp baking soda |  | 1 Tbs. sugar |  | \u00bd cup cornmeal |  | 1 cup cooked rice |  | 2 cups buttermilk |  | 2 eggs |  | 2 Tbs oil| |  | Combine all ingredients and fry. \n",
        "\n",
        "\n",
        "\n",
        " |  | Morning-After THB Pancakes (Benin)| |  | 1 cup flour |  | 1 Tbs. sugar |  | 1 \u00bd tsp. baking powder |  | \u00bd tsp. salt |  | 2 Tbs. melted butter |  | 1 egg |  | \u00bd cup milk |  | \u00bd cup flat THB| |  | Mix  |  | ingredients and spoon onto a lightly greased pan.  \n",
        "\n",
        "\n",
        "\n",
        " |  | Banana Pancakes (Heather Pear, Amaparafaravola) |  | 1-3 bananas, mashed\t\t\t\t2 \u00bd tsp baking powder |  | 1 egg\t\t\t\t\t\t\u00be tsp salt |  | 1 \u00bd cups water\t\t\t\t\t1 Tbs sugar |  | 2 Tbs powdered milk |  | 1 \u00bc cups flour (I use \u00bd cup whole wheat, \u00bd cup white & \u00bc cup soy flour) |  | Combine all dry ingredients together.  In a separate bowl, combine bananas, egg and water.  Mix the two together and cook on a hot frying pan.  The fruit keeps them really nice and moist without adding any butter or oil.  Also, if you don\u2019t have any eggs, you can make them without.  The banana helps stick the pancakes together much as the egg does.  Also really good with grated apple in addition to, or instead of, the banana. \n",
        "\n",
        "\n",
        "\n",
        " |  | French Toast (The Essential Vegetarian Cookbook) |  | The French call this dish pain perdu (lost bread).| |  | 2 large eggs |  | 2 large egg whites |  | \u00bd cup milk |  | 1 Tbs. honey or sugar |  | 1 tsp. vanilla |  | Pinch of cinnamon |  | 8 slices of old bread| |  | Mix up all the ingredients and heat a skillet over medium-high heat. Dip both sides of the bread into the milk mixture and cook until the underside is nicely browned. Flip. To spice it up a little, you can add some fresh grated ginger or some jam to the milk mixture. \n",
        "\n",
        "\n",
        "\n",
        " |  | Crepes Suzette (Where there is no Whopper)| |  | Crepes: |  | 4 eggs\t\t\t\t\t\tdash of salt |  | \u00bd cup flour\t\t\t\t\t\u00be cup milk |  | \u00bc tsp baking powder\t\t\t\t1 Tbs sugar| |  | Combine all ingredients and beat to death \u2013 absolutely, positively no lumps.  The batter should be very thin.  Heat skillet, adding butter as necessary.  Pour batter on it a few Tbs at a time and swirl the pan to spread evenly in a circle \u2013 the thinner the better.  Cook like a pancake.  When done, put on a plate and cover with a towel to keep warm. |  | Sauce:| |  | \u00bd cup fresh-squeezed orange juice\t\t\t\u00bc cup water |  | 3 Tbs butter\t\t\t\t\t\u00bc cup sugar |  | 1 Tbs slivered orange\t\t\t\t1 mini-bottle Grand Mariner or Curacao| |  | Combine first five ingredients in a frying pan, simmer until slightly thickened.  Add crepes, folded in quarters.  Glaze for a few minutes to coat well.  Heat liqueur in separate pan.  Add all at once to sauce and crepes, light on fire and serve. \n",
        "\n",
        "\n",
        "\n",
        " \n",
        "\n",
        "\n",
        "\n",
        " |  | Simple Syrup| |  | Boil 1 part water and 2 parts sugar for 5 minutes. \n",
        "\n",
        "\n",
        "\n",
        " |  | Brown Sugar Syrup| |  | 1 cup brown sugar |  | \u00bd cup water |  | 1 Tbs. butter |  | \u00bd tsp vanilla| |  | Combine sugar and water; bring to a boil and boil for 2 minutes. Remove from heat and stir in butter and vanilla. \n",
        "\n",
        "\n",
        "\n",
        " |  | Bubbly Apple Topping| |  | \u00bc cup butter or margarine |  | 2 small apples, cored and sliced |  | \u00bc cup packed brown sugar |  | \u00bc cup chopped nuts |  | 1/8 cup water| |  | In a small frying pan, melt butter. Add apples and cook, stirring occasionally, until tender. Stir in remaining ingredients and heat through. \n",
        "\n",
        "\n",
        "\n",
        " \n",
        "\n",
        "\n",
        "\n",
        " |  | Soy Porridge| |  | 3 Tbs. soy flour  |  | 2/3 - 1 cup corn flour  |  | 1 1/2  2 cups water  |  | salt and sugar to taste| |  | Mix all ingredients well. Add to boiling water, stirring continuously. Cook for 20 minutes. Add salt and sugar to taste. \n",
        "\n",
        "\n",
        "\n",
        " |  | Breakast Couscous (NOLS)| |  | 4 cups water |  | \u00bc tsp salt |  | 3 Tbs. brown sugar or honey |  | \u00bc cup margarine |  | \u00bc cup dried or fresh fruit |  | 2 cups couscous |  | 2 Tbs. powdered milk mixed with 4 Tbs. water |  | \u00bd-1 tsp. cinnamon |  | \u00bc cup nuts| |  | Bring water to a boil with salt, brown sugar, margarine and dried fruit. Add couscous and milk mixture and stir. Cover and simmer for 5-10 minutes, stirring occasionally. When water is gone and mixture has fluffed up, mix in the cinnamon, nuts and fresh fruit. Serves 4. \n",
        "\n",
        "\n",
        "\n",
        " |  | Polenta Porridge (a.k.a. Hasty Pudding) (The Essential Vegetarian Cookbook)| |  | \u00bc cup cornmeal |  | 1 cup milk |  | honey or brown sugar| |  | In a heavy saucepan, combine the milk and cornmeal. Bring to a simmer over medium heat, stirring often with a fork. Turn heat to medium-low and continue cooking and stirring until thick, about 20 minutes. Top with honey or brown sugar and a little milk |  | Popoto Power Porridge (Where there is no Whopper)| |  | 2 cups leftover cooked rice\t\t\t1 banana, mashed |  | 2 Tbs peanut butter\t\t\t\t2 Tbs honey |  | 2 Tbs sugar\t\t\t\t\t\u00bd cup water| |  | Mix all ingredients together and heat until peanut butter is melted. \n",
        "\n",
        "\n",
        "\n",
        " \n",
        "\n",
        "\n",
        "\n",
        " |  | Shephard\u2019s Omelet (Benin)| |  | 4 small potatoes, cooked and diced |  | 1 green pepper, chopped |  | \u00bd an onion, chopped |  | 1-2 tomatoes, chopped |  | Grated cheese if you have it |  | 3-4 eggs beat with a little milk| |  | Saut\u00e9 vegetables in oil. Add eggs. Scramble with cheese. Season to taste. \n",
        "\n",
        "\n",
        "\n",
        " |  | Three-Tiered Omelet Ranchero (Real Food for Real People)| |  | 8 eggs, beaten |  | 2 Tbs. milk |  | \u00be tsp. salt |  | 1/8 tsp. pepper |  | Butter |  | 5 tomatoes, diced |  | chili peppers, minced |  | 1 green pepper, diced |  | 1/8 tsp. salt |  | Dash of hot sauce |  | 1 Tbs. cold water |  | 1 Tbs. cornstarch |  | \u00bd cup sour cream |  | 1 large avocado, sliced |  | Lemon juice |  | 1 \u00bc cup shredded cheese| |  | In a mixing bowl, thoroughly combine the eggs, milk, salt and pepper. Heat 1-2 Tbs. butter in a small skillet and pour in \u00bd cup egg mixture. Tilt pan to spread eggs evenly over the bottom of the pan. As the mixture begins to set, use a spatula to lift the omlet at the edges to the uncooked part flows underneath. Cook until eggs are set and the bottom is brown. Invert the omelet onto waxed paper. Repeat with the remaining egg mixture to make a total of 4 omelets.  |  | In a saucepan, combine the tomatoes, peppers, salt and hot sauce. In a separate bowl, stir together the cornstarch and water, add to the tomatoes. Cook and stir until thickened and bubbly.  |  | To assemble, place 1 omelet, brown side up, in an 8-9 inch metal plate. Spread on \u00bd of the tomato mixture. Set aside 1 Tbs. of the sour cream spread the rest on the second omelet. Dip the avocado slices in lemon juice to prevent them from turning brown and arrange them over sour cream. Top with another omelet. Sprinkle on 1 cup of cheese. Top with remaining omelet, brown side up. Cover with foil and bake for 30 minutes. Uncover, sprinkle on remaining cheese and bake until it melts. Add a little water to the remaining tomato sauce and heat. Top omelet with sauce and sour cream.  \n",
        "\n",
        "\n",
        "\n",
        " |  | Noodle Omelet (Real Food for Real People)| |  | \u00bd cup chopped onions |  | 1 tsp. salt |  | 2 Tbs. butter |  | \u00bd cup grated cheese |  | 1 1/8 cups cooked noodles |  | 1/3 green pepper, chopped |  | 1 Tbs. oil |  | 4 eggs, beaten| |  | Saute onions and peppers. Stir in butter and keep warm over low heat. Stir together cheese, eggs, noodles and salt. Pour over onions and peppers, cover and cook without stirring over low heat for 15-20 minutes. Sprinkle with cheese during last few minutes. Casserole will be done when slightly puffed and browned around the edges. \n",
        "\n",
        "\n",
        "\n",
        " |  | Cheese Omelet (Abby Jackson, Mandrosoa)| |  | Whisk together one egg, some powdered milk and a splash of water. Add salt, pepper and spices of your choice. Pour into a pan with some heated oil. Add one wedge of Vache Qui Rit cheese, broken into pieces and fold half of the egg onto the cheese. Cook until egg is done. You can also add Vache Qui Rit cheese to scrambled eggs. \n",
        "\n",
        "\n",
        "\n",
        " |  | Spinach-Cheese Quiche (Where there is no Whopper)| |  | 1 medium chopped onion\t\t\t\t1 cup grated cheese |  | 3-4 strips bacon, chopped (if available)\t\t4 eggs, beaten |  | 1 cup evaporated milk\t\t\t\tsalt, pepper and seasonings to taste |  | 1 cup cooked, chopped spinach (or other dark green anana, like anamamy)| |  | Brush pastry shell with egg white, then bake in oven for five minutes.  Place bacon and spinach in shell.  Mix together milk, eggs, salt, pepper, and seasonings and pour into the shell.  Sprinkle cheese over the top and bake for 30 to 40 minutes or until set. \n",
        "\n",
        "\n",
        "\n",
        " |  | Rice Quiche Crust (Where there is no Whopper)| |  | 1 \u00bd cups cooked rice\t\t\t\t2 Tbs butter |  | 2 Tbs chopped onion\t\t\t\t1 tsp basil |  | 1 egg, slightly beaten| |  | Combine and press into bottom and sides of a greased 9-inch pie plate.  Fill with quiche filling and bake. \n",
        "\n",
        "\n",
        "\n",
        " |  | Breakfast Sausage (Dennis Unites, RPCV Kenya)| |  | \u00bd kilo ground pork ~80% lean |  | 1 tsp ground pepper |  | 1 tsp dried thyme |  | Salt to taste| |  | Mix thoroughly make into patties and fry. \n",
        "\n",
        "\n",
        "\n",
        " \n",
        "\n",
        "\n",
        "\n"
       ]
      }
     ],
     "prompt_number": 71
    },
    {
     "cell_type": "code",
     "collapsed": false,
     "input": [],
     "language": "python",
     "metadata": {},
     "outputs": [],
     "prompt_number": 71
    },
    {
     "cell_type": "code",
     "collapsed": false,
     "input": [],
     "language": "python",
     "metadata": {},
     "outputs": []
    }
   ],
   "metadata": {}
  }
 ]
}